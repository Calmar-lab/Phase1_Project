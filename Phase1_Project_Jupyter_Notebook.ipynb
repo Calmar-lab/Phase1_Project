{
 "cells": [
  {
   "cell_type": "markdown",
   "metadata": {},
   "source": [
    "# Aircraft Risks Analysis Project"
   ]
  },
  {
   "cell_type": "markdown",
   "metadata": {},
   "source": [
    "## Project Goal"
   ]
  },
  {
   "cell_type": "markdown",
   "metadata": {},
   "source": [
    "In this project I aim to analyze critical risk factors within the aviation industry to better equip stakeholders in making data-driven decisions before venturing into the industry."
   ]
  },
  {
   "cell_type": "markdown",
   "metadata": {},
   "source": [
    "## Business Understanding"
   ]
  },
  {
   "cell_type": "markdown",
   "metadata": {},
   "source": [
    "The company is intrested in expanding into the aviation industry. It's considering purchasing and operating airplanes for commercial and private enterprises and needs to be aware of the potential risks of aircrafts before venturing into this business. "
   ]
  },
  {
   "cell_type": "markdown",
   "metadata": {},
   "source": [
    "## Data Understanding"
   ]
  },
  {
   "cell_type": "markdown",
   "metadata": {},
   "source": [
    "In this project, I'll make use of the [Aviation Accident Database & Synopses](https://www.kaggle.com/datasets/khsamaha/aviation-accident-database-synopses) data from the National Transportation Safety Board that includes aviation accident data from 1962 to 2023 about civil aviation accidents and selected incidents in the United States, its territories and possessions, and international waters.\n",
    "From the dataset, I'll be working with the AviationData csv, as it better suits our analysis of finding the lowest risk aircraft for the company. \n",
    "\n",
    "- The csv file contains over 30 columns, however, I filtered through them to use only the most relevant columns to our analysis.\n",
    "- In this section, I'll inspect the structure of our dataset, including its general information, summary statistics, and dimensionality."
   ]
  },
  {
   "cell_type": "code",
   "execution_count": 1,
   "metadata": {},
   "outputs": [],
   "source": [
    "#import the necessary libraries for the analysis\n",
    "import pandas as pd\n",
    "import numpy as np\n",
    "import matplotlib.pyplot as plt\n",
    "import seaborn as sns\n",
    "%matplotlib inline"
   ]
  },
  {
   "cell_type": "code",
   "execution_count": 2,
   "metadata": {},
   "outputs": [
    {
     "data": {
      "text/html": [
       "<div>\n",
       "<style scoped>\n",
       "    .dataframe tbody tr th:only-of-type {\n",
       "        vertical-align: middle;\n",
       "    }\n",
       "\n",
       "    .dataframe tbody tr th {\n",
       "        vertical-align: top;\n",
       "    }\n",
       "\n",
       "    .dataframe thead th {\n",
       "        text-align: right;\n",
       "    }\n",
       "</style>\n",
       "<table border=\"1\" class=\"dataframe\">\n",
       "  <thead>\n",
       "    <tr style=\"text-align: right;\">\n",
       "      <th></th>\n",
       "      <th>Event.Id</th>\n",
       "      <th>Investigation.Type</th>\n",
       "      <th>Accident.Number</th>\n",
       "      <th>Event.Date</th>\n",
       "      <th>Location</th>\n",
       "      <th>Country</th>\n",
       "      <th>Latitude</th>\n",
       "      <th>Longitude</th>\n",
       "      <th>Airport.Code</th>\n",
       "      <th>Airport.Name</th>\n",
       "      <th>Injury.Severity</th>\n",
       "      <th>Aircraft.damage</th>\n",
       "      <th>Aircraft.Category</th>\n",
       "      <th>Registration.Number</th>\n",
       "      <th>Make</th>\n",
       "      <th>Model</th>\n",
       "      <th>Amateur.Built</th>\n",
       "      <th>Number.of.Engines</th>\n",
       "      <th>Engine.Type</th>\n",
       "      <th>FAR.Description</th>\n",
       "      <th>Schedule</th>\n",
       "      <th>Purpose.of.flight</th>\n",
       "      <th>Air.carrier</th>\n",
       "      <th>Total.Fatal.Injuries</th>\n",
       "      <th>Total.Serious.Injuries</th>\n",
       "      <th>Total.Minor.Injuries</th>\n",
       "      <th>Total.Uninjured</th>\n",
       "      <th>Weather.Condition</th>\n",
       "      <th>Broad.phase.of.flight</th>\n",
       "      <th>Report.Status</th>\n",
       "      <th>Publication.Date</th>\n",
       "    </tr>\n",
       "  </thead>\n",
       "  <tbody>\n",
       "    <tr>\n",
       "      <th>0</th>\n",
       "      <td>20001218X45444</td>\n",
       "      <td>Accident</td>\n",
       "      <td>SEA87LA080</td>\n",
       "      <td>1948-10-24</td>\n",
       "      <td>MOOSE CREEK, ID</td>\n",
       "      <td>United States</td>\n",
       "      <td>NaN</td>\n",
       "      <td>NaN</td>\n",
       "      <td>NaN</td>\n",
       "      <td>NaN</td>\n",
       "      <td>Fatal(2)</td>\n",
       "      <td>Destroyed</td>\n",
       "      <td>NaN</td>\n",
       "      <td>NC6404</td>\n",
       "      <td>Stinson</td>\n",
       "      <td>108-3</td>\n",
       "      <td>No</td>\n",
       "      <td>1.0</td>\n",
       "      <td>Reciprocating</td>\n",
       "      <td>NaN</td>\n",
       "      <td>NaN</td>\n",
       "      <td>Personal</td>\n",
       "      <td>NaN</td>\n",
       "      <td>2.0</td>\n",
       "      <td>0.0</td>\n",
       "      <td>0.0</td>\n",
       "      <td>0.0</td>\n",
       "      <td>UNK</td>\n",
       "      <td>Cruise</td>\n",
       "      <td>Probable Cause</td>\n",
       "      <td>NaN</td>\n",
       "    </tr>\n",
       "    <tr>\n",
       "      <th>1</th>\n",
       "      <td>20001218X45447</td>\n",
       "      <td>Accident</td>\n",
       "      <td>LAX94LA336</td>\n",
       "      <td>1962-07-19</td>\n",
       "      <td>BRIDGEPORT, CA</td>\n",
       "      <td>United States</td>\n",
       "      <td>NaN</td>\n",
       "      <td>NaN</td>\n",
       "      <td>NaN</td>\n",
       "      <td>NaN</td>\n",
       "      <td>Fatal(4)</td>\n",
       "      <td>Destroyed</td>\n",
       "      <td>NaN</td>\n",
       "      <td>N5069P</td>\n",
       "      <td>Piper</td>\n",
       "      <td>PA24-180</td>\n",
       "      <td>No</td>\n",
       "      <td>1.0</td>\n",
       "      <td>Reciprocating</td>\n",
       "      <td>NaN</td>\n",
       "      <td>NaN</td>\n",
       "      <td>Personal</td>\n",
       "      <td>NaN</td>\n",
       "      <td>4.0</td>\n",
       "      <td>0.0</td>\n",
       "      <td>0.0</td>\n",
       "      <td>0.0</td>\n",
       "      <td>UNK</td>\n",
       "      <td>Unknown</td>\n",
       "      <td>Probable Cause</td>\n",
       "      <td>19-09-1996</td>\n",
       "    </tr>\n",
       "    <tr>\n",
       "      <th>2</th>\n",
       "      <td>20061025X01555</td>\n",
       "      <td>Accident</td>\n",
       "      <td>NYC07LA005</td>\n",
       "      <td>1974-08-30</td>\n",
       "      <td>Saltville, VA</td>\n",
       "      <td>United States</td>\n",
       "      <td>36.922223</td>\n",
       "      <td>-81.878056</td>\n",
       "      <td>NaN</td>\n",
       "      <td>NaN</td>\n",
       "      <td>Fatal(3)</td>\n",
       "      <td>Destroyed</td>\n",
       "      <td>NaN</td>\n",
       "      <td>N5142R</td>\n",
       "      <td>Cessna</td>\n",
       "      <td>172M</td>\n",
       "      <td>No</td>\n",
       "      <td>1.0</td>\n",
       "      <td>Reciprocating</td>\n",
       "      <td>NaN</td>\n",
       "      <td>NaN</td>\n",
       "      <td>Personal</td>\n",
       "      <td>NaN</td>\n",
       "      <td>3.0</td>\n",
       "      <td>NaN</td>\n",
       "      <td>NaN</td>\n",
       "      <td>NaN</td>\n",
       "      <td>IMC</td>\n",
       "      <td>Cruise</td>\n",
       "      <td>Probable Cause</td>\n",
       "      <td>26-02-2007</td>\n",
       "    </tr>\n",
       "    <tr>\n",
       "      <th>3</th>\n",
       "      <td>20001218X45448</td>\n",
       "      <td>Accident</td>\n",
       "      <td>LAX96LA321</td>\n",
       "      <td>1977-06-19</td>\n",
       "      <td>EUREKA, CA</td>\n",
       "      <td>United States</td>\n",
       "      <td>NaN</td>\n",
       "      <td>NaN</td>\n",
       "      <td>NaN</td>\n",
       "      <td>NaN</td>\n",
       "      <td>Fatal(2)</td>\n",
       "      <td>Destroyed</td>\n",
       "      <td>NaN</td>\n",
       "      <td>N1168J</td>\n",
       "      <td>Rockwell</td>\n",
       "      <td>112</td>\n",
       "      <td>No</td>\n",
       "      <td>1.0</td>\n",
       "      <td>Reciprocating</td>\n",
       "      <td>NaN</td>\n",
       "      <td>NaN</td>\n",
       "      <td>Personal</td>\n",
       "      <td>NaN</td>\n",
       "      <td>2.0</td>\n",
       "      <td>0.0</td>\n",
       "      <td>0.0</td>\n",
       "      <td>0.0</td>\n",
       "      <td>IMC</td>\n",
       "      <td>Cruise</td>\n",
       "      <td>Probable Cause</td>\n",
       "      <td>12-09-2000</td>\n",
       "    </tr>\n",
       "    <tr>\n",
       "      <th>4</th>\n",
       "      <td>20041105X01764</td>\n",
       "      <td>Accident</td>\n",
       "      <td>CHI79FA064</td>\n",
       "      <td>1979-08-02</td>\n",
       "      <td>Canton, OH</td>\n",
       "      <td>United States</td>\n",
       "      <td>NaN</td>\n",
       "      <td>NaN</td>\n",
       "      <td>NaN</td>\n",
       "      <td>NaN</td>\n",
       "      <td>Fatal(1)</td>\n",
       "      <td>Destroyed</td>\n",
       "      <td>NaN</td>\n",
       "      <td>N15NY</td>\n",
       "      <td>Cessna</td>\n",
       "      <td>501</td>\n",
       "      <td>No</td>\n",
       "      <td>NaN</td>\n",
       "      <td>NaN</td>\n",
       "      <td>NaN</td>\n",
       "      <td>NaN</td>\n",
       "      <td>Personal</td>\n",
       "      <td>NaN</td>\n",
       "      <td>1.0</td>\n",
       "      <td>2.0</td>\n",
       "      <td>NaN</td>\n",
       "      <td>0.0</td>\n",
       "      <td>VMC</td>\n",
       "      <td>Approach</td>\n",
       "      <td>Probable Cause</td>\n",
       "      <td>16-04-1980</td>\n",
       "    </tr>\n",
       "    <tr>\n",
       "      <th>...</th>\n",
       "      <td>...</td>\n",
       "      <td>...</td>\n",
       "      <td>...</td>\n",
       "      <td>...</td>\n",
       "      <td>...</td>\n",
       "      <td>...</td>\n",
       "      <td>...</td>\n",
       "      <td>...</td>\n",
       "      <td>...</td>\n",
       "      <td>...</td>\n",
       "      <td>...</td>\n",
       "      <td>...</td>\n",
       "      <td>...</td>\n",
       "      <td>...</td>\n",
       "      <td>...</td>\n",
       "      <td>...</td>\n",
       "      <td>...</td>\n",
       "      <td>...</td>\n",
       "      <td>...</td>\n",
       "      <td>...</td>\n",
       "      <td>...</td>\n",
       "      <td>...</td>\n",
       "      <td>...</td>\n",
       "      <td>...</td>\n",
       "      <td>...</td>\n",
       "      <td>...</td>\n",
       "      <td>...</td>\n",
       "      <td>...</td>\n",
       "      <td>...</td>\n",
       "      <td>...</td>\n",
       "      <td>...</td>\n",
       "    </tr>\n",
       "    <tr>\n",
       "      <th>88884</th>\n",
       "      <td>20221227106491</td>\n",
       "      <td>Accident</td>\n",
       "      <td>ERA23LA093</td>\n",
       "      <td>2022-12-26</td>\n",
       "      <td>Annapolis, MD</td>\n",
       "      <td>United States</td>\n",
       "      <td>NaN</td>\n",
       "      <td>NaN</td>\n",
       "      <td>NaN</td>\n",
       "      <td>NaN</td>\n",
       "      <td>Minor</td>\n",
       "      <td>NaN</td>\n",
       "      <td>NaN</td>\n",
       "      <td>N1867H</td>\n",
       "      <td>PIPER</td>\n",
       "      <td>PA-28-151</td>\n",
       "      <td>No</td>\n",
       "      <td>NaN</td>\n",
       "      <td>NaN</td>\n",
       "      <td>091</td>\n",
       "      <td>NaN</td>\n",
       "      <td>Personal</td>\n",
       "      <td>NaN</td>\n",
       "      <td>0.0</td>\n",
       "      <td>1.0</td>\n",
       "      <td>0.0</td>\n",
       "      <td>0.0</td>\n",
       "      <td>NaN</td>\n",
       "      <td>NaN</td>\n",
       "      <td>NaN</td>\n",
       "      <td>29-12-2022</td>\n",
       "    </tr>\n",
       "    <tr>\n",
       "      <th>88885</th>\n",
       "      <td>20221227106494</td>\n",
       "      <td>Accident</td>\n",
       "      <td>ERA23LA095</td>\n",
       "      <td>2022-12-26</td>\n",
       "      <td>Hampton, NH</td>\n",
       "      <td>United States</td>\n",
       "      <td>NaN</td>\n",
       "      <td>NaN</td>\n",
       "      <td>NaN</td>\n",
       "      <td>NaN</td>\n",
       "      <td>NaN</td>\n",
       "      <td>NaN</td>\n",
       "      <td>NaN</td>\n",
       "      <td>N2895Z</td>\n",
       "      <td>BELLANCA</td>\n",
       "      <td>7ECA</td>\n",
       "      <td>No</td>\n",
       "      <td>NaN</td>\n",
       "      <td>NaN</td>\n",
       "      <td>NaN</td>\n",
       "      <td>NaN</td>\n",
       "      <td>NaN</td>\n",
       "      <td>NaN</td>\n",
       "      <td>0.0</td>\n",
       "      <td>0.0</td>\n",
       "      <td>0.0</td>\n",
       "      <td>0.0</td>\n",
       "      <td>NaN</td>\n",
       "      <td>NaN</td>\n",
       "      <td>NaN</td>\n",
       "      <td>NaN</td>\n",
       "    </tr>\n",
       "    <tr>\n",
       "      <th>88886</th>\n",
       "      <td>20221227106497</td>\n",
       "      <td>Accident</td>\n",
       "      <td>WPR23LA075</td>\n",
       "      <td>2022-12-26</td>\n",
       "      <td>Payson, AZ</td>\n",
       "      <td>United States</td>\n",
       "      <td>341525N</td>\n",
       "      <td>1112021W</td>\n",
       "      <td>PAN</td>\n",
       "      <td>PAYSON</td>\n",
       "      <td>Non-Fatal</td>\n",
       "      <td>Substantial</td>\n",
       "      <td>Airplane</td>\n",
       "      <td>N749PJ</td>\n",
       "      <td>AMERICAN CHAMPION AIRCRAFT</td>\n",
       "      <td>8GCBC</td>\n",
       "      <td>No</td>\n",
       "      <td>1.0</td>\n",
       "      <td>NaN</td>\n",
       "      <td>091</td>\n",
       "      <td>NaN</td>\n",
       "      <td>Personal</td>\n",
       "      <td>NaN</td>\n",
       "      <td>0.0</td>\n",
       "      <td>0.0</td>\n",
       "      <td>0.0</td>\n",
       "      <td>1.0</td>\n",
       "      <td>VMC</td>\n",
       "      <td>NaN</td>\n",
       "      <td>NaN</td>\n",
       "      <td>27-12-2022</td>\n",
       "    </tr>\n",
       "    <tr>\n",
       "      <th>88887</th>\n",
       "      <td>20221227106498</td>\n",
       "      <td>Accident</td>\n",
       "      <td>WPR23LA076</td>\n",
       "      <td>2022-12-26</td>\n",
       "      <td>Morgan, UT</td>\n",
       "      <td>United States</td>\n",
       "      <td>NaN</td>\n",
       "      <td>NaN</td>\n",
       "      <td>NaN</td>\n",
       "      <td>NaN</td>\n",
       "      <td>NaN</td>\n",
       "      <td>NaN</td>\n",
       "      <td>NaN</td>\n",
       "      <td>N210CU</td>\n",
       "      <td>CESSNA</td>\n",
       "      <td>210N</td>\n",
       "      <td>No</td>\n",
       "      <td>NaN</td>\n",
       "      <td>NaN</td>\n",
       "      <td>091</td>\n",
       "      <td>NaN</td>\n",
       "      <td>Personal</td>\n",
       "      <td>MC CESSNA 210N LLC</td>\n",
       "      <td>0.0</td>\n",
       "      <td>0.0</td>\n",
       "      <td>0.0</td>\n",
       "      <td>0.0</td>\n",
       "      <td>NaN</td>\n",
       "      <td>NaN</td>\n",
       "      <td>NaN</td>\n",
       "      <td>NaN</td>\n",
       "    </tr>\n",
       "    <tr>\n",
       "      <th>88888</th>\n",
       "      <td>20221230106513</td>\n",
       "      <td>Accident</td>\n",
       "      <td>ERA23LA097</td>\n",
       "      <td>2022-12-29</td>\n",
       "      <td>Athens, GA</td>\n",
       "      <td>United States</td>\n",
       "      <td>NaN</td>\n",
       "      <td>NaN</td>\n",
       "      <td>NaN</td>\n",
       "      <td>NaN</td>\n",
       "      <td>Minor</td>\n",
       "      <td>NaN</td>\n",
       "      <td>NaN</td>\n",
       "      <td>N9026P</td>\n",
       "      <td>PIPER</td>\n",
       "      <td>PA-24-260</td>\n",
       "      <td>No</td>\n",
       "      <td>NaN</td>\n",
       "      <td>NaN</td>\n",
       "      <td>091</td>\n",
       "      <td>NaN</td>\n",
       "      <td>Personal</td>\n",
       "      <td>NaN</td>\n",
       "      <td>0.0</td>\n",
       "      <td>1.0</td>\n",
       "      <td>0.0</td>\n",
       "      <td>1.0</td>\n",
       "      <td>NaN</td>\n",
       "      <td>NaN</td>\n",
       "      <td>NaN</td>\n",
       "      <td>30-12-2022</td>\n",
       "    </tr>\n",
       "  </tbody>\n",
       "</table>\n",
       "<p>88889 rows × 31 columns</p>\n",
       "</div>"
      ],
      "text/plain": [
       "             Event.Id Investigation.Type Accident.Number  Event.Date  \\\n",
       "0      20001218X45444           Accident      SEA87LA080  1948-10-24   \n",
       "1      20001218X45447           Accident      LAX94LA336  1962-07-19   \n",
       "2      20061025X01555           Accident      NYC07LA005  1974-08-30   \n",
       "3      20001218X45448           Accident      LAX96LA321  1977-06-19   \n",
       "4      20041105X01764           Accident      CHI79FA064  1979-08-02   \n",
       "...               ...                ...             ...         ...   \n",
       "88884  20221227106491           Accident      ERA23LA093  2022-12-26   \n",
       "88885  20221227106494           Accident      ERA23LA095  2022-12-26   \n",
       "88886  20221227106497           Accident      WPR23LA075  2022-12-26   \n",
       "88887  20221227106498           Accident      WPR23LA076  2022-12-26   \n",
       "88888  20221230106513           Accident      ERA23LA097  2022-12-29   \n",
       "\n",
       "              Location        Country   Latitude   Longitude Airport.Code  \\\n",
       "0      MOOSE CREEK, ID  United States        NaN         NaN          NaN   \n",
       "1       BRIDGEPORT, CA  United States        NaN         NaN          NaN   \n",
       "2        Saltville, VA  United States  36.922223  -81.878056          NaN   \n",
       "3           EUREKA, CA  United States        NaN         NaN          NaN   \n",
       "4           Canton, OH  United States        NaN         NaN          NaN   \n",
       "...                ...            ...        ...         ...          ...   \n",
       "88884    Annapolis, MD  United States        NaN         NaN          NaN   \n",
       "88885      Hampton, NH  United States        NaN         NaN          NaN   \n",
       "88886       Payson, AZ  United States    341525N    1112021W          PAN   \n",
       "88887       Morgan, UT  United States        NaN         NaN          NaN   \n",
       "88888       Athens, GA  United States        NaN         NaN          NaN   \n",
       "\n",
       "      Airport.Name Injury.Severity Aircraft.damage Aircraft.Category  \\\n",
       "0              NaN        Fatal(2)       Destroyed               NaN   \n",
       "1              NaN        Fatal(4)       Destroyed               NaN   \n",
       "2              NaN        Fatal(3)       Destroyed               NaN   \n",
       "3              NaN        Fatal(2)       Destroyed               NaN   \n",
       "4              NaN        Fatal(1)       Destroyed               NaN   \n",
       "...            ...             ...             ...               ...   \n",
       "88884          NaN           Minor             NaN               NaN   \n",
       "88885          NaN             NaN             NaN               NaN   \n",
       "88886       PAYSON       Non-Fatal     Substantial          Airplane   \n",
       "88887          NaN             NaN             NaN               NaN   \n",
       "88888          NaN           Minor             NaN               NaN   \n",
       "\n",
       "      Registration.Number                        Make      Model  \\\n",
       "0                  NC6404                     Stinson      108-3   \n",
       "1                  N5069P                       Piper   PA24-180   \n",
       "2                  N5142R                      Cessna       172M   \n",
       "3                  N1168J                    Rockwell        112   \n",
       "4                   N15NY                      Cessna        501   \n",
       "...                   ...                         ...        ...   \n",
       "88884              N1867H                       PIPER  PA-28-151   \n",
       "88885              N2895Z                    BELLANCA       7ECA   \n",
       "88886              N749PJ  AMERICAN CHAMPION AIRCRAFT      8GCBC   \n",
       "88887              N210CU                      CESSNA       210N   \n",
       "88888              N9026P                       PIPER  PA-24-260   \n",
       "\n",
       "      Amateur.Built  Number.of.Engines    Engine.Type FAR.Description  \\\n",
       "0                No                1.0  Reciprocating             NaN   \n",
       "1                No                1.0  Reciprocating             NaN   \n",
       "2                No                1.0  Reciprocating             NaN   \n",
       "3                No                1.0  Reciprocating             NaN   \n",
       "4                No                NaN            NaN             NaN   \n",
       "...             ...                ...            ...             ...   \n",
       "88884            No                NaN            NaN             091   \n",
       "88885            No                NaN            NaN             NaN   \n",
       "88886            No                1.0            NaN             091   \n",
       "88887            No                NaN            NaN             091   \n",
       "88888            No                NaN            NaN             091   \n",
       "\n",
       "      Schedule Purpose.of.flight         Air.carrier  Total.Fatal.Injuries  \\\n",
       "0          NaN          Personal                 NaN                   2.0   \n",
       "1          NaN          Personal                 NaN                   4.0   \n",
       "2          NaN          Personal                 NaN                   3.0   \n",
       "3          NaN          Personal                 NaN                   2.0   \n",
       "4          NaN          Personal                 NaN                   1.0   \n",
       "...        ...               ...                 ...                   ...   \n",
       "88884      NaN          Personal                 NaN                   0.0   \n",
       "88885      NaN               NaN                 NaN                   0.0   \n",
       "88886      NaN          Personal                 NaN                   0.0   \n",
       "88887      NaN          Personal  MC CESSNA 210N LLC                   0.0   \n",
       "88888      NaN          Personal                 NaN                   0.0   \n",
       "\n",
       "       Total.Serious.Injuries  Total.Minor.Injuries  Total.Uninjured  \\\n",
       "0                         0.0                   0.0              0.0   \n",
       "1                         0.0                   0.0              0.0   \n",
       "2                         NaN                   NaN              NaN   \n",
       "3                         0.0                   0.0              0.0   \n",
       "4                         2.0                   NaN              0.0   \n",
       "...                       ...                   ...              ...   \n",
       "88884                     1.0                   0.0              0.0   \n",
       "88885                     0.0                   0.0              0.0   \n",
       "88886                     0.0                   0.0              1.0   \n",
       "88887                     0.0                   0.0              0.0   \n",
       "88888                     1.0                   0.0              1.0   \n",
       "\n",
       "      Weather.Condition Broad.phase.of.flight   Report.Status Publication.Date  \n",
       "0                   UNK                Cruise  Probable Cause              NaN  \n",
       "1                   UNK               Unknown  Probable Cause       19-09-1996  \n",
       "2                   IMC                Cruise  Probable Cause       26-02-2007  \n",
       "3                   IMC                Cruise  Probable Cause       12-09-2000  \n",
       "4                   VMC              Approach  Probable Cause       16-04-1980  \n",
       "...                 ...                   ...             ...              ...  \n",
       "88884               NaN                   NaN             NaN       29-12-2022  \n",
       "88885               NaN                   NaN             NaN              NaN  \n",
       "88886               VMC                   NaN             NaN       27-12-2022  \n",
       "88887               NaN                   NaN             NaN              NaN  \n",
       "88888               NaN                   NaN             NaN       30-12-2022  \n",
       "\n",
       "[88889 rows x 31 columns]"
      ]
     },
     "execution_count": 2,
     "metadata": {},
     "output_type": "execute_result"
    }
   ],
   "source": [
    "#Read the data into a pandas dataframe\n",
    "df = pd.read_csv('AviationData.csv', encoding='Latin1', low_memory = False)\n",
    "\n",
    "#View the dataframe (including all columns)\n",
    "pd.set_option('display.max_columns', None)\n",
    "df"
   ]
  },
  {
   "cell_type": "code",
   "execution_count": 3,
   "metadata": {},
   "outputs": [
    {
     "name": "stdout",
     "output_type": "stream",
     "text": [
      "<class 'pandas.core.frame.DataFrame'>\n",
      "RangeIndex: 88889 entries, 0 to 88888\n",
      "Data columns (total 31 columns):\n",
      " #   Column                  Non-Null Count  Dtype  \n",
      "---  ------                  --------------  -----  \n",
      " 0   Event.Id                88889 non-null  object \n",
      " 1   Investigation.Type      88889 non-null  object \n",
      " 2   Accident.Number         88889 non-null  object \n",
      " 3   Event.Date              88889 non-null  object \n",
      " 4   Location                88837 non-null  object \n",
      " 5   Country                 88663 non-null  object \n",
      " 6   Latitude                34382 non-null  object \n",
      " 7   Longitude               34373 non-null  object \n",
      " 8   Airport.Code            50249 non-null  object \n",
      " 9   Airport.Name            52790 non-null  object \n",
      " 10  Injury.Severity         87889 non-null  object \n",
      " 11  Aircraft.damage         85695 non-null  object \n",
      " 12  Aircraft.Category       32287 non-null  object \n",
      " 13  Registration.Number     87572 non-null  object \n",
      " 14  Make                    88826 non-null  object \n",
      " 15  Model                   88797 non-null  object \n",
      " 16  Amateur.Built           88787 non-null  object \n",
      " 17  Number.of.Engines       82805 non-null  float64\n",
      " 18  Engine.Type             81812 non-null  object \n",
      " 19  FAR.Description         32023 non-null  object \n",
      " 20  Schedule                12582 non-null  object \n",
      " 21  Purpose.of.flight       82697 non-null  object \n",
      " 22  Air.carrier             16648 non-null  object \n",
      " 23  Total.Fatal.Injuries    77488 non-null  float64\n",
      " 24  Total.Serious.Injuries  76379 non-null  float64\n",
      " 25  Total.Minor.Injuries    76956 non-null  float64\n",
      " 26  Total.Uninjured         82977 non-null  float64\n",
      " 27  Weather.Condition       84397 non-null  object \n",
      " 28  Broad.phase.of.flight   61724 non-null  object \n",
      " 29  Report.Status           82508 non-null  object \n",
      " 30  Publication.Date        75118 non-null  object \n",
      "dtypes: float64(5), object(26)\n",
      "memory usage: 21.0+ MB\n",
      "None\n"
     ]
    }
   ],
   "source": [
    "#Get the general information of the dataset\n",
    "print(df.info())"
   ]
  },
  {
   "cell_type": "markdown",
   "metadata": {},
   "source": [
    "From df.info() we can see that our dataset has 31 columns and 88,889 rows. The majority of the datatypes is object with a few float data types. Alot of the columns contain a significant number of missing values, which we will deal with later."
   ]
  },
  {
   "cell_type": "code",
   "execution_count": 4,
   "metadata": {},
   "outputs": [
    {
     "data": {
      "text/plain": [
       "(88889, 31)"
      ]
     },
     "execution_count": 4,
     "metadata": {},
     "output_type": "execute_result"
    }
   ],
   "source": [
    "#View the dimensionality of the dataset\n",
    "df.shape"
   ]
  },
  {
   "cell_type": "markdown",
   "metadata": {},
   "source": [
    "Above, df.shape shows us the dimensionality of our dataset, and as mentioned earlier, the dataset contains 88,889 rows and 31 columns."
   ]
  },
  {
   "cell_type": "code",
   "execution_count": 5,
   "metadata": {},
   "outputs": [
    {
     "data": {
      "text/html": [
       "<div>\n",
       "<style scoped>\n",
       "    .dataframe tbody tr th:only-of-type {\n",
       "        vertical-align: middle;\n",
       "    }\n",
       "\n",
       "    .dataframe tbody tr th {\n",
       "        vertical-align: top;\n",
       "    }\n",
       "\n",
       "    .dataframe thead th {\n",
       "        text-align: right;\n",
       "    }\n",
       "</style>\n",
       "<table border=\"1\" class=\"dataframe\">\n",
       "  <thead>\n",
       "    <tr style=\"text-align: right;\">\n",
       "      <th></th>\n",
       "      <th>Number.of.Engines</th>\n",
       "      <th>Total.Fatal.Injuries</th>\n",
       "      <th>Total.Serious.Injuries</th>\n",
       "      <th>Total.Minor.Injuries</th>\n",
       "      <th>Total.Uninjured</th>\n",
       "    </tr>\n",
       "  </thead>\n",
       "  <tbody>\n",
       "    <tr>\n",
       "      <th>count</th>\n",
       "      <td>82805.000000</td>\n",
       "      <td>77488.000000</td>\n",
       "      <td>76379.000000</td>\n",
       "      <td>76956.000000</td>\n",
       "      <td>82977.000000</td>\n",
       "    </tr>\n",
       "    <tr>\n",
       "      <th>mean</th>\n",
       "      <td>1.146585</td>\n",
       "      <td>0.647855</td>\n",
       "      <td>0.279881</td>\n",
       "      <td>0.357061</td>\n",
       "      <td>5.325440</td>\n",
       "    </tr>\n",
       "    <tr>\n",
       "      <th>std</th>\n",
       "      <td>0.446510</td>\n",
       "      <td>5.485960</td>\n",
       "      <td>1.544084</td>\n",
       "      <td>2.235625</td>\n",
       "      <td>27.913634</td>\n",
       "    </tr>\n",
       "    <tr>\n",
       "      <th>min</th>\n",
       "      <td>0.000000</td>\n",
       "      <td>0.000000</td>\n",
       "      <td>0.000000</td>\n",
       "      <td>0.000000</td>\n",
       "      <td>0.000000</td>\n",
       "    </tr>\n",
       "    <tr>\n",
       "      <th>25%</th>\n",
       "      <td>1.000000</td>\n",
       "      <td>0.000000</td>\n",
       "      <td>0.000000</td>\n",
       "      <td>0.000000</td>\n",
       "      <td>0.000000</td>\n",
       "    </tr>\n",
       "    <tr>\n",
       "      <th>50%</th>\n",
       "      <td>1.000000</td>\n",
       "      <td>0.000000</td>\n",
       "      <td>0.000000</td>\n",
       "      <td>0.000000</td>\n",
       "      <td>1.000000</td>\n",
       "    </tr>\n",
       "    <tr>\n",
       "      <th>75%</th>\n",
       "      <td>1.000000</td>\n",
       "      <td>0.000000</td>\n",
       "      <td>0.000000</td>\n",
       "      <td>0.000000</td>\n",
       "      <td>2.000000</td>\n",
       "    </tr>\n",
       "    <tr>\n",
       "      <th>max</th>\n",
       "      <td>8.000000</td>\n",
       "      <td>349.000000</td>\n",
       "      <td>161.000000</td>\n",
       "      <td>380.000000</td>\n",
       "      <td>699.000000</td>\n",
       "    </tr>\n",
       "  </tbody>\n",
       "</table>\n",
       "</div>"
      ],
      "text/plain": [
       "       Number.of.Engines  Total.Fatal.Injuries  Total.Serious.Injuries  \\\n",
       "count       82805.000000          77488.000000            76379.000000   \n",
       "mean            1.146585              0.647855                0.279881   \n",
       "std             0.446510              5.485960                1.544084   \n",
       "min             0.000000              0.000000                0.000000   \n",
       "25%             1.000000              0.000000                0.000000   \n",
       "50%             1.000000              0.000000                0.000000   \n",
       "75%             1.000000              0.000000                0.000000   \n",
       "max             8.000000            349.000000              161.000000   \n",
       "\n",
       "       Total.Minor.Injuries  Total.Uninjured  \n",
       "count          76956.000000     82977.000000  \n",
       "mean               0.357061         5.325440  \n",
       "std                2.235625        27.913634  \n",
       "min                0.000000         0.000000  \n",
       "25%                0.000000         0.000000  \n",
       "50%                0.000000         1.000000  \n",
       "75%                0.000000         2.000000  \n",
       "max              380.000000       699.000000  "
      ]
     },
     "execution_count": 5,
     "metadata": {},
     "output_type": "execute_result"
    }
   ],
   "source": [
    "#Summary stats of the numerical columns\n",
    "df.describe()"
   ]
  },
  {
   "cell_type": "markdown",
   "metadata": {},
   "source": [
    "Above, we get to see the statistical summary of all our numerical columns"
   ]
  },
  {
   "cell_type": "markdown",
   "metadata": {},
   "source": [
    "## Data Preparation"
   ]
  },
  {
   "cell_type": "markdown",
   "metadata": {},
   "source": [
    "In this section, I'll clean the data to ensure its suitable for our analysis. This will involve;\n",
    "- Exploring the columns and selecting the ones most relevant to our analysis.\n",
    "- Check and handle any missing values in the dataset.\n",
    "- Ensure the columns have the appropriate dtypes.\n",
    "- Prepare columns for future analysis."
   ]
  },
  {
   "cell_type": "code",
   "execution_count": 6,
   "metadata": {},
   "outputs": [
    {
     "data": {
      "text/plain": [
       "Index(['Event.Id', 'Investigation.Type', 'Accident.Number', 'Event.Date',\n",
       "       'Location', 'Country', 'Latitude', 'Longitude', 'Airport.Code',\n",
       "       'Airport.Name', 'Injury.Severity', 'Aircraft.damage',\n",
       "       'Aircraft.Category', 'Registration.Number', 'Make', 'Model',\n",
       "       'Amateur.Built', 'Number.of.Engines', 'Engine.Type', 'FAR.Description',\n",
       "       'Schedule', 'Purpose.of.flight', 'Air.carrier', 'Total.Fatal.Injuries',\n",
       "       'Total.Serious.Injuries', 'Total.Minor.Injuries', 'Total.Uninjured',\n",
       "       'Weather.Condition', 'Broad.phase.of.flight', 'Report.Status',\n",
       "       'Publication.Date'],\n",
       "      dtype='object')"
      ]
     },
     "execution_count": 6,
     "metadata": {},
     "output_type": "execute_result"
    }
   ],
   "source": [
    "#View the columns to select the ones relevant for our analysis\n",
    "df.columns"
   ]
  },
  {
   "cell_type": "code",
   "execution_count": 7,
   "metadata": {},
   "outputs": [],
   "source": [
    "#Modify the dataframe to only include the most relevant columns to our analysis\n",
    "df = df.loc[:, ['Investigation.Type', 'Event.Date', 'Location', 'Country', 'Aircraft.damage', 'Make', 'Model',\n",
    "               'Number.of.Engines', 'Purpose.of.flight', 'Total.Fatal.Injuries', 'Total.Serious.Injuries', 'Total.Minor.Injuries', \n",
    "               'Total.Uninjured', 'Weather.Condition']]"
   ]
  },
  {
   "cell_type": "code",
   "execution_count": 8,
   "metadata": {},
   "outputs": [
    {
     "data": {
      "text/plain": [
       "Index(['Investigation.Type', 'Event.Date', 'Location', 'Country',\n",
       "       'Aircraft.damage', 'Make', 'Model', 'Number.of.Engines',\n",
       "       'Purpose.of.flight', 'Total.Fatal.Injuries', 'Total.Serious.Injuries',\n",
       "       'Total.Minor.Injuries', 'Total.Uninjured', 'Weather.Condition'],\n",
       "      dtype='object')"
      ]
     },
     "execution_count": 8,
     "metadata": {},
     "output_type": "execute_result"
    }
   ],
   "source": [
    "#Check for modified columns\n",
    "df.columns"
   ]
  },
  {
   "cell_type": "code",
   "execution_count": 9,
   "metadata": {},
   "outputs": [
    {
     "data": {
      "text/html": [
       "<div>\n",
       "<style scoped>\n",
       "    .dataframe tbody tr th:only-of-type {\n",
       "        vertical-align: middle;\n",
       "    }\n",
       "\n",
       "    .dataframe tbody tr th {\n",
       "        vertical-align: top;\n",
       "    }\n",
       "\n",
       "    .dataframe thead th {\n",
       "        text-align: right;\n",
       "    }\n",
       "</style>\n",
       "<table border=\"1\" class=\"dataframe\">\n",
       "  <thead>\n",
       "    <tr style=\"text-align: right;\">\n",
       "      <th></th>\n",
       "      <th>Investigation.Type</th>\n",
       "      <th>Event.Date</th>\n",
       "      <th>Location</th>\n",
       "      <th>Country</th>\n",
       "      <th>Aircraft.damage</th>\n",
       "      <th>Make</th>\n",
       "      <th>Model</th>\n",
       "      <th>Number.of.Engines</th>\n",
       "      <th>Purpose.of.flight</th>\n",
       "      <th>Total.Fatal.Injuries</th>\n",
       "      <th>Total.Serious.Injuries</th>\n",
       "      <th>Total.Minor.Injuries</th>\n",
       "      <th>Total.Uninjured</th>\n",
       "      <th>Weather.Condition</th>\n",
       "    </tr>\n",
       "  </thead>\n",
       "  <tbody>\n",
       "    <tr>\n",
       "      <th>0</th>\n",
       "      <td>Accident</td>\n",
       "      <td>1948-10-24</td>\n",
       "      <td>MOOSE CREEK, ID</td>\n",
       "      <td>United States</td>\n",
       "      <td>Destroyed</td>\n",
       "      <td>Stinson</td>\n",
       "      <td>108-3</td>\n",
       "      <td>1.0</td>\n",
       "      <td>Personal</td>\n",
       "      <td>2.0</td>\n",
       "      <td>0.0</td>\n",
       "      <td>0.0</td>\n",
       "      <td>0.0</td>\n",
       "      <td>UNK</td>\n",
       "    </tr>\n",
       "    <tr>\n",
       "      <th>1</th>\n",
       "      <td>Accident</td>\n",
       "      <td>1962-07-19</td>\n",
       "      <td>BRIDGEPORT, CA</td>\n",
       "      <td>United States</td>\n",
       "      <td>Destroyed</td>\n",
       "      <td>Piper</td>\n",
       "      <td>PA24-180</td>\n",
       "      <td>1.0</td>\n",
       "      <td>Personal</td>\n",
       "      <td>4.0</td>\n",
       "      <td>0.0</td>\n",
       "      <td>0.0</td>\n",
       "      <td>0.0</td>\n",
       "      <td>UNK</td>\n",
       "    </tr>\n",
       "    <tr>\n",
       "      <th>2</th>\n",
       "      <td>Accident</td>\n",
       "      <td>1974-08-30</td>\n",
       "      <td>Saltville, VA</td>\n",
       "      <td>United States</td>\n",
       "      <td>Destroyed</td>\n",
       "      <td>Cessna</td>\n",
       "      <td>172M</td>\n",
       "      <td>1.0</td>\n",
       "      <td>Personal</td>\n",
       "      <td>3.0</td>\n",
       "      <td>NaN</td>\n",
       "      <td>NaN</td>\n",
       "      <td>NaN</td>\n",
       "      <td>IMC</td>\n",
       "    </tr>\n",
       "    <tr>\n",
       "      <th>3</th>\n",
       "      <td>Accident</td>\n",
       "      <td>1977-06-19</td>\n",
       "      <td>EUREKA, CA</td>\n",
       "      <td>United States</td>\n",
       "      <td>Destroyed</td>\n",
       "      <td>Rockwell</td>\n",
       "      <td>112</td>\n",
       "      <td>1.0</td>\n",
       "      <td>Personal</td>\n",
       "      <td>2.0</td>\n",
       "      <td>0.0</td>\n",
       "      <td>0.0</td>\n",
       "      <td>0.0</td>\n",
       "      <td>IMC</td>\n",
       "    </tr>\n",
       "    <tr>\n",
       "      <th>4</th>\n",
       "      <td>Accident</td>\n",
       "      <td>1979-08-02</td>\n",
       "      <td>Canton, OH</td>\n",
       "      <td>United States</td>\n",
       "      <td>Destroyed</td>\n",
       "      <td>Cessna</td>\n",
       "      <td>501</td>\n",
       "      <td>NaN</td>\n",
       "      <td>Personal</td>\n",
       "      <td>1.0</td>\n",
       "      <td>2.0</td>\n",
       "      <td>NaN</td>\n",
       "      <td>0.0</td>\n",
       "      <td>VMC</td>\n",
       "    </tr>\n",
       "  </tbody>\n",
       "</table>\n",
       "</div>"
      ],
      "text/plain": [
       "  Investigation.Type  Event.Date         Location        Country  \\\n",
       "0           Accident  1948-10-24  MOOSE CREEK, ID  United States   \n",
       "1           Accident  1962-07-19   BRIDGEPORT, CA  United States   \n",
       "2           Accident  1974-08-30    Saltville, VA  United States   \n",
       "3           Accident  1977-06-19       EUREKA, CA  United States   \n",
       "4           Accident  1979-08-02       Canton, OH  United States   \n",
       "\n",
       "  Aircraft.damage      Make     Model  Number.of.Engines Purpose.of.flight  \\\n",
       "0       Destroyed   Stinson     108-3                1.0          Personal   \n",
       "1       Destroyed     Piper  PA24-180                1.0          Personal   \n",
       "2       Destroyed    Cessna      172M                1.0          Personal   \n",
       "3       Destroyed  Rockwell       112                1.0          Personal   \n",
       "4       Destroyed    Cessna       501                NaN          Personal   \n",
       "\n",
       "   Total.Fatal.Injuries  Total.Serious.Injuries  Total.Minor.Injuries  \\\n",
       "0                   2.0                     0.0                   0.0   \n",
       "1                   4.0                     0.0                   0.0   \n",
       "2                   3.0                     NaN                   NaN   \n",
       "3                   2.0                     0.0                   0.0   \n",
       "4                   1.0                     2.0                   NaN   \n",
       "\n",
       "   Total.Uninjured Weather.Condition  \n",
       "0              0.0               UNK  \n",
       "1              0.0               UNK  \n",
       "2              NaN               IMC  \n",
       "3              0.0               IMC  \n",
       "4              0.0               VMC  "
      ]
     },
     "execution_count": 9,
     "metadata": {},
     "output_type": "execute_result"
    }
   ],
   "source": [
    "#Quick look of the dataframe after selecting columns to work with\n",
    "df.head()"
   ]
  },
  {
   "cell_type": "code",
   "execution_count": 10,
   "metadata": {},
   "outputs": [
    {
     "data": {
      "text/plain": [
       "Investigation.Type            0\n",
       "Event.Date                    0\n",
       "Location                     52\n",
       "Country                     226\n",
       "Aircraft.damage            3194\n",
       "Make                         63\n",
       "Model                        92\n",
       "Number.of.Engines          6084\n",
       "Purpose.of.flight          6192\n",
       "Total.Fatal.Injuries      11401\n",
       "Total.Serious.Injuries    12510\n",
       "Total.Minor.Injuries      11933\n",
       "Total.Uninjured            5912\n",
       "Weather.Condition          4492\n",
       "dtype: int64"
      ]
     },
     "execution_count": 10,
     "metadata": {},
     "output_type": "execute_result"
    }
   ],
   "source": [
    "#Check for missing values\n",
    "df.isnull().sum()"
   ]
  },
  {
   "cell_type": "markdown",
   "metadata": {},
   "source": [
    "<b> Considering that I'm working with a dataset with 88,889 entries, I decided to drop rows with missing values. Keeping in mind the sensitivity of this analysis- we're analyzing aviation risks, I found it problematic to impute the missing values with mean, median, or any other measure, due to the possible introduction of bias in the dataset. Also, I find that after dropping the rows with missing values, I'm still left with a large dataset, which could allow for accurate insights. "
   ]
  },
  {
   "cell_type": "code",
   "execution_count": 11,
   "metadata": {},
   "outputs": [],
   "source": [
    "#Drop rows with missing values\n",
    "df.dropna(inplace=True)"
   ]
  },
  {
   "cell_type": "code",
   "execution_count": 12,
   "metadata": {},
   "outputs": [
    {
     "data": {
      "text/plain": [
       "Investigation.Type        0\n",
       "Event.Date                0\n",
       "Location                  0\n",
       "Country                   0\n",
       "Aircraft.damage           0\n",
       "Make                      0\n",
       "Model                     0\n",
       "Number.of.Engines         0\n",
       "Purpose.of.flight         0\n",
       "Total.Fatal.Injuries      0\n",
       "Total.Serious.Injuries    0\n",
       "Total.Minor.Injuries      0\n",
       "Total.Uninjured           0\n",
       "Weather.Condition         0\n",
       "dtype: int64"
      ]
     },
     "execution_count": 12,
     "metadata": {},
     "output_type": "execute_result"
    }
   ],
   "source": [
    "#Check if missing values have been dropped\n",
    "df.isnull().sum()"
   ]
  },
  {
   "cell_type": "code",
   "execution_count": 13,
   "metadata": {},
   "outputs": [
    {
     "data": {
      "text/plain": [
       "(65413, 14)"
      ]
     },
     "execution_count": 13,
     "metadata": {},
     "output_type": "execute_result"
    }
   ],
   "source": [
    "df.shape"
   ]
  },
  {
   "cell_type": "markdown",
   "metadata": {},
   "source": [
    "65, 413 records, which is over 70% of the data, is still a good dataset to carry out our analysis with instead of risking introducing noise and bias in the data and end up with a misleading analysis"
   ]
  },
  {
   "cell_type": "code",
   "execution_count": 14,
   "metadata": {},
   "outputs": [],
   "source": [
    "#Convert the date column to appropriate dtype\n",
    "df['Event.Date'] = pd.to_datetime(df['Event.Date'])\n",
    "\n",
    "\n",
    "#Convert the injuries columns from floats to integers as they represent the count of injuries\n",
    "#Counts of injuries cannot be fractions; thus, an int dtype is more accurate.\n",
    "df['Total.Fatal.Injuries'] = df['Total.Fatal.Injuries'].astype(int)\n",
    "df['Total.Serious.Injuries'] = df['Total.Serious.Injuries'].astype(int)\n",
    "df['Total.Minor.Injuries'] = df['Total.Minor.Injuries'].astype(int)\n",
    "df['Total.Uninjured'] = df['Total.Uninjured'].astype(int)\n",
    "\n",
    "\n",
    "#Convert the 'Number.of.Engines' columns from floats to integers since counts of engines cannot be fractions.\n",
    "df['Number.of.Engines'] = df['Number.of.Engines'].astype(int)"
   ]
  },
  {
   "cell_type": "code",
   "execution_count": 15,
   "metadata": {},
   "outputs": [],
   "source": [
    "#Split the 'Event.Date' column into 'Year' column, 'Month' column, and 'Date' column for easier analysis later.\n",
    "df['Accident.Year'] = df['Event.Date'].dt.year\n",
    "df['Accident.Month'] = df['Event.Date'].dt.month\n",
    "df['Accident.Date'] = df['Event.Date'].dt.day"
   ]
  },
  {
   "cell_type": "code",
   "execution_count": 16,
   "metadata": {},
   "outputs": [],
   "source": [
    "#Combine the make and model columns to come with the identity of the plane for easier analysis later\n",
    "df['Aircraft.Type'] = df['Make'].str.cat(df['Model'], sep= '-') "
   ]
  },
  {
   "cell_type": "code",
   "execution_count": 17,
   "metadata": {},
   "outputs": [],
   "source": [
    "#Ensure the values in this column are in the title format(first letter capitalized)\n",
    "df['Aircraft.Type'] = df['Aircraft.Type'].str.title()"
   ]
  },
  {
   "cell_type": "code",
   "execution_count": 18,
   "metadata": {},
   "outputs": [],
   "source": [
    "#Remove the Event.Date column as its now redundant with the introduction of 'Year', 'Month', 'Date' columns \n",
    "df.drop('Event.Date', axis=1, inplace=True)"
   ]
  },
  {
   "cell_type": "code",
   "execution_count": 19,
   "metadata": {},
   "outputs": [],
   "source": [
    "#Set the 'Make' column values to title format\n",
    "df['Make'] = df['Make'].str.title()"
   ]
  },
  {
   "cell_type": "code",
   "execution_count": 20,
   "metadata": {},
   "outputs": [
    {
     "data": {
      "text/plain": [
       "Index(['Investigation.Type', 'Location', 'Country', 'Aircraft.damage', 'Make',\n",
       "       'Model', 'Number.of.Engines', 'Purpose.of.flight',\n",
       "       'Total.Fatal.Injuries', 'Total.Serious.Injuries',\n",
       "       'Total.Minor.Injuries', 'Total.Uninjured', 'Weather.Condition',\n",
       "       'Accident.Year', 'Accident.Month', 'Accident.Date', 'Aircraft.Type'],\n",
       "      dtype='object')"
      ]
     },
     "execution_count": 20,
     "metadata": {},
     "output_type": "execute_result"
    }
   ],
   "source": [
    "#Check the columns that we now have in the dataframe\n",
    "df.columns"
   ]
  },
  {
   "cell_type": "code",
   "execution_count": 21,
   "metadata": {},
   "outputs": [
    {
     "data": {
      "text/plain": [
       "Investigation.Type        object\n",
       "Location                  object\n",
       "Country                   object\n",
       "Aircraft.damage           object\n",
       "Make                      object\n",
       "Model                     object\n",
       "Number.of.Engines          int32\n",
       "Purpose.of.flight         object\n",
       "Total.Fatal.Injuries       int32\n",
       "Total.Serious.Injuries     int32\n",
       "Total.Minor.Injuries       int32\n",
       "Total.Uninjured            int32\n",
       "Weather.Condition         object\n",
       "Accident.Year              int64\n",
       "Accident.Month             int64\n",
       "Accident.Date              int64\n",
       "Aircraft.Type             object\n",
       "dtype: object"
      ]
     },
     "execution_count": 21,
     "metadata": {},
     "output_type": "execute_result"
    }
   ],
   "source": [
    "#Check data types\n",
    "df.dtypes"
   ]
  },
  {
   "cell_type": "code",
   "execution_count": 22,
   "metadata": {},
   "outputs": [
    {
     "data": {
      "text/html": [
       "<div>\n",
       "<style scoped>\n",
       "    .dataframe tbody tr th:only-of-type {\n",
       "        vertical-align: middle;\n",
       "    }\n",
       "\n",
       "    .dataframe tbody tr th {\n",
       "        vertical-align: top;\n",
       "    }\n",
       "\n",
       "    .dataframe thead th {\n",
       "        text-align: right;\n",
       "    }\n",
       "</style>\n",
       "<table border=\"1\" class=\"dataframe\">\n",
       "  <thead>\n",
       "    <tr style=\"text-align: right;\">\n",
       "      <th></th>\n",
       "      <th>Investigation.Type</th>\n",
       "      <th>Location</th>\n",
       "      <th>Country</th>\n",
       "      <th>Aircraft.damage</th>\n",
       "      <th>Make</th>\n",
       "      <th>Model</th>\n",
       "      <th>Number.of.Engines</th>\n",
       "      <th>Purpose.of.flight</th>\n",
       "      <th>Total.Fatal.Injuries</th>\n",
       "      <th>Total.Serious.Injuries</th>\n",
       "      <th>Total.Minor.Injuries</th>\n",
       "      <th>Total.Uninjured</th>\n",
       "      <th>Weather.Condition</th>\n",
       "      <th>Accident.Year</th>\n",
       "      <th>Accident.Month</th>\n",
       "      <th>Accident.Date</th>\n",
       "      <th>Aircraft.Type</th>\n",
       "    </tr>\n",
       "  </thead>\n",
       "  <tbody>\n",
       "    <tr>\n",
       "      <th>0</th>\n",
       "      <td>Accident</td>\n",
       "      <td>MOOSE CREEK, ID</td>\n",
       "      <td>United States</td>\n",
       "      <td>Destroyed</td>\n",
       "      <td>Stinson</td>\n",
       "      <td>108-3</td>\n",
       "      <td>1</td>\n",
       "      <td>Personal</td>\n",
       "      <td>2</td>\n",
       "      <td>0</td>\n",
       "      <td>0</td>\n",
       "      <td>0</td>\n",
       "      <td>UNK</td>\n",
       "      <td>1948</td>\n",
       "      <td>10</td>\n",
       "      <td>24</td>\n",
       "      <td>Stinson-108-3</td>\n",
       "    </tr>\n",
       "    <tr>\n",
       "      <th>1</th>\n",
       "      <td>Accident</td>\n",
       "      <td>BRIDGEPORT, CA</td>\n",
       "      <td>United States</td>\n",
       "      <td>Destroyed</td>\n",
       "      <td>Piper</td>\n",
       "      <td>PA24-180</td>\n",
       "      <td>1</td>\n",
       "      <td>Personal</td>\n",
       "      <td>4</td>\n",
       "      <td>0</td>\n",
       "      <td>0</td>\n",
       "      <td>0</td>\n",
       "      <td>UNK</td>\n",
       "      <td>1962</td>\n",
       "      <td>7</td>\n",
       "      <td>19</td>\n",
       "      <td>Piper-Pa24-180</td>\n",
       "    </tr>\n",
       "    <tr>\n",
       "      <th>3</th>\n",
       "      <td>Accident</td>\n",
       "      <td>EUREKA, CA</td>\n",
       "      <td>United States</td>\n",
       "      <td>Destroyed</td>\n",
       "      <td>Rockwell</td>\n",
       "      <td>112</td>\n",
       "      <td>1</td>\n",
       "      <td>Personal</td>\n",
       "      <td>2</td>\n",
       "      <td>0</td>\n",
       "      <td>0</td>\n",
       "      <td>0</td>\n",
       "      <td>IMC</td>\n",
       "      <td>1977</td>\n",
       "      <td>6</td>\n",
       "      <td>19</td>\n",
       "      <td>Rockwell-112</td>\n",
       "    </tr>\n",
       "    <tr>\n",
       "      <th>6</th>\n",
       "      <td>Accident</td>\n",
       "      <td>COTTON, MN</td>\n",
       "      <td>United States</td>\n",
       "      <td>Destroyed</td>\n",
       "      <td>Cessna</td>\n",
       "      <td>180</td>\n",
       "      <td>1</td>\n",
       "      <td>Personal</td>\n",
       "      <td>4</td>\n",
       "      <td>0</td>\n",
       "      <td>0</td>\n",
       "      <td>0</td>\n",
       "      <td>IMC</td>\n",
       "      <td>1981</td>\n",
       "      <td>8</td>\n",
       "      <td>1</td>\n",
       "      <td>Cessna-180</td>\n",
       "    </tr>\n",
       "    <tr>\n",
       "      <th>7</th>\n",
       "      <td>Accident</td>\n",
       "      <td>PULLMAN, WA</td>\n",
       "      <td>United States</td>\n",
       "      <td>Substantial</td>\n",
       "      <td>Cessna</td>\n",
       "      <td>140</td>\n",
       "      <td>1</td>\n",
       "      <td>Personal</td>\n",
       "      <td>0</td>\n",
       "      <td>0</td>\n",
       "      <td>0</td>\n",
       "      <td>2</td>\n",
       "      <td>VMC</td>\n",
       "      <td>1982</td>\n",
       "      <td>1</td>\n",
       "      <td>1</td>\n",
       "      <td>Cessna-140</td>\n",
       "    </tr>\n",
       "    <tr>\n",
       "      <th>...</th>\n",
       "      <td>...</td>\n",
       "      <td>...</td>\n",
       "      <td>...</td>\n",
       "      <td>...</td>\n",
       "      <td>...</td>\n",
       "      <td>...</td>\n",
       "      <td>...</td>\n",
       "      <td>...</td>\n",
       "      <td>...</td>\n",
       "      <td>...</td>\n",
       "      <td>...</td>\n",
       "      <td>...</td>\n",
       "      <td>...</td>\n",
       "      <td>...</td>\n",
       "      <td>...</td>\n",
       "      <td>...</td>\n",
       "      <td>...</td>\n",
       "    </tr>\n",
       "    <tr>\n",
       "      <th>88859</th>\n",
       "      <td>Accident</td>\n",
       "      <td>Casa Grande, AZ</td>\n",
       "      <td>United States</td>\n",
       "      <td>Substantial</td>\n",
       "      <td>Arado-Flugzeugwerke Gmbh</td>\n",
       "      <td>FW190 A-5</td>\n",
       "      <td>1</td>\n",
       "      <td>Personal</td>\n",
       "      <td>0</td>\n",
       "      <td>0</td>\n",
       "      <td>0</td>\n",
       "      <td>1</td>\n",
       "      <td>VMC</td>\n",
       "      <td>2022</td>\n",
       "      <td>12</td>\n",
       "      <td>9</td>\n",
       "      <td>Arado-Flugzeugwerke Gmbh-Fw190 A-5</td>\n",
       "    </tr>\n",
       "    <tr>\n",
       "      <th>88865</th>\n",
       "      <td>Accident</td>\n",
       "      <td>Knoxville, TN</td>\n",
       "      <td>United States</td>\n",
       "      <td>Substantial</td>\n",
       "      <td>Cessna</td>\n",
       "      <td>172</td>\n",
       "      <td>1</td>\n",
       "      <td>Instructional</td>\n",
       "      <td>0</td>\n",
       "      <td>0</td>\n",
       "      <td>0</td>\n",
       "      <td>1</td>\n",
       "      <td>VMC</td>\n",
       "      <td>2022</td>\n",
       "      <td>12</td>\n",
       "      <td>12</td>\n",
       "      <td>Cessna-172</td>\n",
       "    </tr>\n",
       "    <tr>\n",
       "      <th>88873</th>\n",
       "      <td>Accident</td>\n",
       "      <td>San Juan, PR</td>\n",
       "      <td>United States</td>\n",
       "      <td>Substantial</td>\n",
       "      <td>Cirrus Design Corp</td>\n",
       "      <td>SR22</td>\n",
       "      <td>1</td>\n",
       "      <td>Personal</td>\n",
       "      <td>0</td>\n",
       "      <td>0</td>\n",
       "      <td>0</td>\n",
       "      <td>1</td>\n",
       "      <td>VMC</td>\n",
       "      <td>2022</td>\n",
       "      <td>12</td>\n",
       "      <td>14</td>\n",
       "      <td>Cirrus Design Corp-Sr22</td>\n",
       "    </tr>\n",
       "    <tr>\n",
       "      <th>88877</th>\n",
       "      <td>Accident</td>\n",
       "      <td>Brooksville, FL</td>\n",
       "      <td>United States</td>\n",
       "      <td>Substantial</td>\n",
       "      <td>Cessna</td>\n",
       "      <td>R172K</td>\n",
       "      <td>1</td>\n",
       "      <td>Personal</td>\n",
       "      <td>0</td>\n",
       "      <td>1</td>\n",
       "      <td>0</td>\n",
       "      <td>0</td>\n",
       "      <td>VMC</td>\n",
       "      <td>2022</td>\n",
       "      <td>12</td>\n",
       "      <td>16</td>\n",
       "      <td>Cessna-R172K</td>\n",
       "    </tr>\n",
       "    <tr>\n",
       "      <th>88886</th>\n",
       "      <td>Accident</td>\n",
       "      <td>Payson, AZ</td>\n",
       "      <td>United States</td>\n",
       "      <td>Substantial</td>\n",
       "      <td>American Champion Aircraft</td>\n",
       "      <td>8GCBC</td>\n",
       "      <td>1</td>\n",
       "      <td>Personal</td>\n",
       "      <td>0</td>\n",
       "      <td>0</td>\n",
       "      <td>0</td>\n",
       "      <td>1</td>\n",
       "      <td>VMC</td>\n",
       "      <td>2022</td>\n",
       "      <td>12</td>\n",
       "      <td>26</td>\n",
       "      <td>American Champion Aircraft-8Gcbc</td>\n",
       "    </tr>\n",
       "  </tbody>\n",
       "</table>\n",
       "<p>65413 rows × 17 columns</p>\n",
       "</div>"
      ],
      "text/plain": [
       "      Investigation.Type         Location        Country Aircraft.damage  \\\n",
       "0               Accident  MOOSE CREEK, ID  United States       Destroyed   \n",
       "1               Accident   BRIDGEPORT, CA  United States       Destroyed   \n",
       "3               Accident       EUREKA, CA  United States       Destroyed   \n",
       "6               Accident       COTTON, MN  United States       Destroyed   \n",
       "7               Accident      PULLMAN, WA  United States     Substantial   \n",
       "...                  ...              ...            ...             ...   \n",
       "88859           Accident  Casa Grande, AZ  United States     Substantial   \n",
       "88865           Accident    Knoxville, TN  United States     Substantial   \n",
       "88873           Accident     San Juan, PR  United States     Substantial   \n",
       "88877           Accident  Brooksville, FL  United States     Substantial   \n",
       "88886           Accident       Payson, AZ  United States     Substantial   \n",
       "\n",
       "                             Make      Model  Number.of.Engines  \\\n",
       "0                         Stinson      108-3                  1   \n",
       "1                           Piper   PA24-180                  1   \n",
       "3                        Rockwell        112                  1   \n",
       "6                          Cessna        180                  1   \n",
       "7                          Cessna        140                  1   \n",
       "...                           ...        ...                ...   \n",
       "88859    Arado-Flugzeugwerke Gmbh  FW190 A-5                  1   \n",
       "88865                      Cessna        172                  1   \n",
       "88873          Cirrus Design Corp       SR22                  1   \n",
       "88877                      Cessna      R172K                  1   \n",
       "88886  American Champion Aircraft      8GCBC                  1   \n",
       "\n",
       "      Purpose.of.flight  Total.Fatal.Injuries  Total.Serious.Injuries  \\\n",
       "0              Personal                     2                       0   \n",
       "1              Personal                     4                       0   \n",
       "3              Personal                     2                       0   \n",
       "6              Personal                     4                       0   \n",
       "7              Personal                     0                       0   \n",
       "...                 ...                   ...                     ...   \n",
       "88859          Personal                     0                       0   \n",
       "88865     Instructional                     0                       0   \n",
       "88873          Personal                     0                       0   \n",
       "88877          Personal                     0                       1   \n",
       "88886          Personal                     0                       0   \n",
       "\n",
       "       Total.Minor.Injuries  Total.Uninjured Weather.Condition  Accident.Year  \\\n",
       "0                         0                0               UNK           1948   \n",
       "1                         0                0               UNK           1962   \n",
       "3                         0                0               IMC           1977   \n",
       "6                         0                0               IMC           1981   \n",
       "7                         0                2               VMC           1982   \n",
       "...                     ...              ...               ...            ...   \n",
       "88859                     0                1               VMC           2022   \n",
       "88865                     0                1               VMC           2022   \n",
       "88873                     0                1               VMC           2022   \n",
       "88877                     0                0               VMC           2022   \n",
       "88886                     0                1               VMC           2022   \n",
       "\n",
       "       Accident.Month  Accident.Date                       Aircraft.Type  \n",
       "0                  10             24                       Stinson-108-3  \n",
       "1                   7             19                      Piper-Pa24-180  \n",
       "3                   6             19                        Rockwell-112  \n",
       "6                   8              1                          Cessna-180  \n",
       "7                   1              1                          Cessna-140  \n",
       "...               ...            ...                                 ...  \n",
       "88859              12              9  Arado-Flugzeugwerke Gmbh-Fw190 A-5  \n",
       "88865              12             12                          Cessna-172  \n",
       "88873              12             14             Cirrus Design Corp-Sr22  \n",
       "88877              12             16                        Cessna-R172K  \n",
       "88886              12             26    American Champion Aircraft-8Gcbc  \n",
       "\n",
       "[65413 rows x 17 columns]"
      ]
     },
     "execution_count": 22,
     "metadata": {},
     "output_type": "execute_result"
    }
   ],
   "source": [
    "#Check for our changes\n",
    "df"
   ]
  },
  {
   "cell_type": "code",
   "execution_count": 23,
   "metadata": {},
   "outputs": [
    {
     "data": {
      "text/plain": [
       "(65413, 17)"
      ]
     },
     "execution_count": 23,
     "metadata": {},
     "output_type": "execute_result"
    }
   ],
   "source": [
    "#Confirm the new dimensionality of the dataframe\n",
    "df.shape"
   ]
  },
  {
   "cell_type": "markdown",
   "metadata": {},
   "source": [
    "## Data Analysis"
   ]
  },
  {
   "cell_type": "code",
   "execution_count": 24,
   "metadata": {},
   "outputs": [
    {
     "data": {
      "text/plain": [
       "Cessna      21666\n",
       "Piper       12000\n",
       "Beech        4117\n",
       "Bell         1837\n",
       "Mooney       1055\n",
       "Grumman      1029\n",
       "Bellanca      888\n",
       "Hughes        709\n",
       "Boeing        695\n",
       "Robinson      628\n",
       "Name: Make, dtype: int64"
      ]
     },
     "execution_count": 24,
     "metadata": {},
     "output_type": "execute_result"
    }
   ],
   "source": [
    "#Let's check out the top 10 most common aircrafts involved in aviation accidents\n",
    "top_10_aircrafts_accidents = df['Make'].value_counts().head(10)\n",
    "top_10_aircrafts_accidents"
   ]
  },
  {
   "cell_type": "markdown",
   "metadata": {},
   "source": [
    "- From the above output, we can see that the Cessna aircrafts makes are involved in the most number of reported accidents and incidents.\n",
    "- I'll delve deeper into this under the 'Data Visualization' section"
   ]
  },
  {
   "cell_type": "code",
   "execution_count": 25,
   "metadata": {},
   "outputs": [
    {
     "data": {
      "text/plain": [
       "Personal              39593\n",
       "Instructional          8447\n",
       "Unknown                5027\n",
       "Aerial Application     3976\n",
       "Business               3329\n",
       "Positioning            1143\n",
       "Other Work Use          877\n",
       "Ferry                   687\n",
       "Aerial Observation      599\n",
       "Public Aircraft         488\n",
       "Name: Purpose.of.flight, dtype: int64"
      ]
     },
     "execution_count": 25,
     "metadata": {},
     "output_type": "execute_result"
    }
   ],
   "source": [
    "#Let's discover the top five purposes of flying; commercial or private\n",
    "df['Purpose.of.flight'].value_counts().head(10)"
   ]
  },
  {
   "cell_type": "markdown",
   "metadata": {},
   "source": [
    "- From the above analysis, those flying for 'Personal' purposes were involved in the most number of reported cases. This might mean that private aircrafts are ones involved in most accidents and incidents. \n",
    "- I'll also discuss this further during visualization"
   ]
  },
  {
   "cell_type": "code",
   "execution_count": 26,
   "metadata": {},
   "outputs": [
    {
     "data": {
      "text/plain": [
       "Accident    64309\n",
       "Incident     1104\n",
       "Name: Investigation.Type, dtype: int64"
      ]
     },
     "execution_count": 26,
     "metadata": {},
     "output_type": "execute_result"
    }
   ],
   "source": [
    "#Let's check the investigation types\n",
    "df['Investigation.Type'].value_counts()"
   ]
  },
  {
   "cell_type": "markdown",
   "metadata": {},
   "source": [
    "- As seen above 64,309 reported cases were accidents while 1,104 reported cases were incidents"
   ]
  },
  {
   "cell_type": "code",
   "execution_count": 27,
   "metadata": {},
   "outputs": [
    {
     "data": {
      "text/plain": [
       "Substantial    49659\n",
       "Destroyed      14169\n",
       "Minor           1546\n",
       "Unknown           39\n",
       "Name: Aircraft.damage, dtype: int64"
      ]
     },
     "execution_count": 27,
     "metadata": {},
     "output_type": "execute_result"
    }
   ],
   "source": [
    "#Let's check out the level of aircraft damage in the accidents\n",
    "damages = df['Aircraft.damage'].value_counts()\n",
    "damages"
   ]
  },
  {
   "cell_type": "markdown",
   "metadata": {},
   "source": [
    "- Majority of the reported cases ended up with substantial damages."
   ]
  },
  {
   "cell_type": "markdown",
   "metadata": {},
   "source": [
    "## Data Visualization \n",
    "\n",
    "This section, intends to extract insights from the data and answer the following key questions with visualizations;\n",
    "\n",
    "<b>\n",
    "\n",
    "- Which aircraft are the lowest risk for the company to start this new business endevor?\n",
    "- What is the trend of aviation accidents over time?\n",
    "- Which aircrafts have the highest number of recorded accidents/incidents?\n",
    "- How do weather conditions affect the number of accidents and incidents?\n",
    "- Which purpose of flight (e.g., commercial, private) has the most incidents?\n",
    "- How bad are the damages in aircrafts after accidents/incidents?"
   ]
  },
  {
   "cell_type": "markdown",
   "metadata": {},
   "source": [
    "<b>KEY QUESTION 1 : Which aircraft are the lowest risk for the company to start this new business endevor?\n",
    "    \n",
    "  - In this question I'll analyze and visualize the aircrafts make and model ('Aircraft.Type') with the least reported accidents and incidents.\n",
    "  - This analysis will show us some of the lowest risk aircrafts in the industry.\n",
    "  - Insights from this visualizations can help stakeholders decide on what aircrafts to consider in this venture."
   ]
  },
  {
   "cell_type": "code",
   "execution_count": 28,
   "metadata": {},
   "outputs": [
    {
     "data": {
      "text/plain": [
       "Aircraft.Type\n",
       "Cessna-152                    25.0\n",
       "Piper-Pa-31-350               19.0\n",
       "Cessna-402C                   17.0\n",
       "Mcdonnell Douglas-Dc-10-10    14.0\n",
       "Boeing-727-200                13.0\n",
       "Cessna-207                    11.0\n",
       "Boeing-727-223                11.0\n",
       "Piper-Pa-34-200T              11.0\n",
       "Cessna-402B                   11.0\n",
       "Boeing-727-232                10.0\n",
       "Name: Minor, dtype: float64"
      ]
     },
     "execution_count": 28,
     "metadata": {},
     "output_type": "execute_result"
    }
   ],
   "source": [
    "#I defined 'lowest risk aircraft' as aircrafts that experienced the least level of damage i.e 'Minor' damages\n",
    "# Group the dataset by Aircraft.Type (make and model) and 'Aircraft.damage', and count occurrences of each damage level\n",
    "damage_by_aircraft_type = df.groupby(['Aircraft.Type', 'Aircraft.damage']).size().unstack().fillna(0)\n",
    "\n",
    "#Sort the data by the least damage to find the lowest risk aircrafts\n",
    "less_damage_aircrafts = damage_by_aircraft_type['Minor'].sort_values(ascending=False)\n",
    "\n",
    "#Top 10 aircraft types that reported the least damages\n",
    "less_damage_aircrafts.head(10)"
   ]
  },
  {
   "cell_type": "code",
   "execution_count": 29,
   "metadata": {},
   "outputs": [
    {
     "data": {
      "image/png": "[encoded data removed]",
      "text/plain": [
       "<Figure size 864x576 with 1 Axes>"
      ]
     },
     "metadata": {
      "needs_background": "light"
     },
     "output_type": "display_data"
    },
    {
     "data": {
      "text/plain": [
       "<Figure size 432x288 with 0 Axes>"
      ]
     },
     "metadata": {},
     "output_type": "display_data"
    }
   ],
   "source": [
    "#Let's create a bar plot to visualize this\n",
    "#Create the bar chart\n",
    "less_damage_aircrafts.head(10).plot(kind='bar', figsize=(12,8), color='skyblue')\n",
    "\n",
    "#Set labels and title\n",
    "plt.title('TOP 10 LOW-RISK AIRCRAFTS', fontsize= 18)\n",
    "plt.xlabel('AIRCRAFT TYPE', fontsize= 14)\n",
    "plt.ylabel('NUMBER OF REPORTED MINOR DAMAGES', fontsize= 14)\n",
    "plt.xticks(rotation= 45)\n",
    "plt.tight_layout()\n",
    "\n",
    "#Display the plot\n",
    "plt.show()\n",
    "\n",
    "#Save the plot as image\n",
    "plt.savefig('low_risk-_aircrafts.png')"
   ]
  },
  {
   "cell_type": "markdown",
   "metadata": {},
   "source": [
    "- From this analysis, stakeholders can identify which types of aircraft sustain less damage in all reported incidents. This insight helps in selecting more durable aircraft models."
   ]
  },
  {
   "cell_type": "markdown",
   "metadata": {},
   "source": [
    " <b>KEY QUESTION 2: What is the trend of aviation accidents over time?\n",
    "    \n",
    "   - In this question I want to see what are the trends of accidents over the years in the aviation industry. \n",
    "   - Should the stakeholders be considering this business venture in the first place or is it too risky?\n",
    "   - I will be using a line graph for this analysis as its best for showing trends"
   ]
  },
  {
   "cell_type": "code",
   "execution_count": 30,
   "metadata": {},
   "outputs": [
    {
     "data": {
      "image/png": "[encoded data removed]",
      "text/plain": [
       "<Figure size 1008x576 with 1 Axes>"
      ]
     },
     "metadata": {},
     "output_type": "display_data"
    },
    {
     "data": {
      "text/plain": [
       "<Figure size 432x288 with 0 Axes>"
      ]
     },
     "metadata": {},
     "output_type": "display_data"
    }
   ],
   "source": [
    "#Specify the data that'll be used for plotting the linegraph\n",
    "#I used .size() to count each recorded incident per year\n",
    "accident_data = df.groupby('Accident.Year').size()\n",
    "\n",
    "#I noticed that some years have significantly less recorded incidents that when included in the visualization distorted it.  \n",
    "#I eliminated the years with very few recorded incidents from the graph to maintain an accurate visualization of the incidents.\n",
    "data = accident_data[accident_data >= 100]\n",
    "\n",
    "#I used Seaborn for a better-looking plot\n",
    "sns.set(style='whitegrid')\n",
    "\n",
    "#Create the figure\n",
    "plt.figure(figsize=(14,8))\n",
    "\n",
    "#Create the linegraph\n",
    "sns.lineplot(data= data, markers=True)\n",
    "\n",
    "#Set the labels and title\n",
    "plt.title('TREND OF AVIATION ACCIDENTS OVER THE YEARS', fontsize = 18)\n",
    "plt.xlabel('YEAR', fontsize = 14)\n",
    "plt.ylabel('NUMBER OF ACCIDENTS', fontsize = 14 )\n",
    "\n",
    "#Display the plot\n",
    "plt.show()\n",
    "\n",
    "\n",
    "#Save the plot as image\n",
    "plt.savefig('trend_of_accidents.png')"
   ]
  },
  {
   "cell_type": "markdown",
   "metadata": {},
   "source": [
    "- As evident in the linegraph above, there has been a steady decrease in aviation accidents over the years. \n",
    "- We can attribute this to better technology, aviation knowlegde, or engineering over the years.\n",
    "- This is the first greenlight for our stakeholders that shows the aviation industry might be a viable business venture, as the reported accident incidents have significantly reduced overtime. \n",
    "- Stakeholders can leverage this trend in marketing and when looking for investors."
   ]
  },
  {
   "cell_type": "markdown",
   "metadata": {},
   "source": [
    "<b>KEY QUESTION 3; Which aircrafts have the highest number of recorded accidents?\n",
    "\n",
    "   - In this question, I'll be investigating what aircrafts (manufacturer) have been involved in most aviation accidents.\n",
    "   - If stakeholders decide to move ahead with this venture, they need to be aware of aircraft manufacturers/models to crutinize further.\n",
    "   - For this analysis, I'll use a bar chart to visualize the top ten manufacturers to investigate further when considering where to buy an aircraft. There's a caveat for this analysis that we'll address after the visualization."
   ]
  },
  {
   "cell_type": "markdown",
   "metadata": {},
   "source": [
    "- I already specified the data that'll be used for plotting this barchart. \n",
    "- I filtered this data out earlier when looking at the top 10 most common aircrafts involved in aviation accidents in the data analysis section"
   ]
  },
  {
   "cell_type": "code",
   "execution_count": 31,
   "metadata": {},
   "outputs": [
    {
     "data": {
      "image/png": "[encoded data removed]",
      "text/plain": [
       "<Figure size 1080x576 with 1 Axes>"
      ]
     },
     "metadata": {},
     "output_type": "display_data"
    },
    {
     "data": {
      "text/plain": [
       "<Figure size 432x288 with 0 Axes>"
      ]
     },
     "metadata": {},
     "output_type": "display_data"
    }
   ],
   "source": [
    "#Create the figure\n",
    "plt.figure(figsize=(15,8))\n",
    "\n",
    "#Create the linegraph\n",
    "plt.bar(x = top_10_aircrafts_accidents.index, height =top_10_aircrafts_accidents.values)\n",
    "\n",
    "#Set the labels and title\n",
    "plt.title('TOP 10 AIRCRAFT MAKE WITH THE HIGHEST NUMBER OF RECORDED ACCIDENTS', fontsize = 18)\n",
    "plt.xlabel('AIRCRAFT MAKE AND MODEL', fontsize= 14)\n",
    "plt.ylabel('NUMBER OF RECORDED ACCIDENTS', fontsize= 14 )\n",
    "plt.xticks(rotation = 45)\n",
    "\n",
    "# Display the plot\n",
    "plt.show()\n",
    "\n",
    "#Save the plot as image\n",
    "plt.savefig('high_risk_aircrafts.png')"
   ]
  },
  {
   "cell_type": "markdown",
   "metadata": {},
   "source": [
    "- The Cessna and Piper aircraft make have the highest number of reported cases. This may suggests two things; the aircrafts are generally unsafe as they are involved in most accidents/incidents or (the caveat-->) they are simply involved in more frequent flights, hence more records. \n",
    "\n",
    "- Regardless, stakeholders should keep in mind the consequences of operating these models, and should also consider where they're commonly used and whether they intend to explore those sectors. \n",
    "\n",
    "- Therefore, the high accident numbers for these makes may also reflect their popularity and frequent usage rather than an inherent safety flaw. So I'd suggest stakeholders investigate whether the accident rates are proportional to the number of flights."
   ]
  },
  {
   "cell_type": "markdown",
   "metadata": {},
   "source": [
    "<b> KEY QUESTION 4: How do weather conditions affect the number of accidents and incidents?\n",
    "    \n",
    "   - In this question I'll investigate the different weather conditions and their corresponding reported accidents.\n",
    "   - With the helps of a bar plot, we'll visualize how many accidents and incidents were reported for each weather condition.\n",
    "   - This information will help the stakeholders be aware of the risks of operating in certain weather conditions."
   ]
  },
  {
   "cell_type": "code",
   "execution_count": 32,
   "metadata": {},
   "outputs": [
    {
     "data": {
      "text/plain": [
       "VMC    60225\n",
       "IMC     4517\n",
       "UNK      579\n",
       "Unk       92\n",
       "Name: Weather.Condition, dtype: int64"
      ]
     },
     "execution_count": 32,
     "metadata": {},
     "output_type": "execute_result"
    }
   ],
   "source": [
    "weather = df['Weather.Condition'].value_counts()\n",
    "weather"
   ]
  },
  {
   "cell_type": "code",
   "execution_count": 33,
   "metadata": {},
   "outputs": [
    {
     "data": {
      "image/png": "[encoded data removed]",
      "text/plain": [
       "<Figure size 864x576 with 1 Axes>"
      ]
     },
     "metadata": {},
     "output_type": "display_data"
    },
    {
     "data": {
      "text/plain": [
       "<Figure size 432x288 with 0 Axes>"
      ]
     },
     "metadata": {},
     "output_type": "display_data"
    }
   ],
   "source": [
    "#Create the figure\n",
    "plt.figure(figsize=(12, 8))\n",
    "\n",
    "#Create the bar chart\n",
    "sns.barplot(x= weather.index, y= weather.values)\n",
    "\n",
    "#Set the title and labels\n",
    "plt.title('NUMBER OF ACCIDENTS BY WEATHER CONDITIONS', fontsize = 18)\n",
    "plt.xlabel('WEATHER CONDITIONS', fontsize= 14)\n",
    "plt.ylabel('NUMBER OF ACCIDENTS', fontsize= 14)\n",
    "plt.show()\n",
    "\n",
    "#Save the plot as image\n",
    "plt.savefig('accidents_by_weather.png')"
   ]
  },
  {
   "cell_type": "markdown",
   "metadata": {},
   "source": [
    "- The majority of reported cases occurred under VMC weather conditions. For stakeholders, this implies that they'll need to direct resources to reinforce operational safety measures even in favorable weather conditions.\n",
    "\n",
    "- These insights can also guide stakeholders to invest in technologies that improve safety in poor weather conditions in the company's aircraft"
   ]
  },
  {
   "cell_type": "markdown",
   "metadata": {},
   "source": [
    "<b>KEY QUESTION 5; Which purpose of flight (e.g., commercial, private) has the most incidents?\n",
    "\n",
    "   - This question aims to answer how the accidents and incidents are distributed across different purposes of flight, eg, commercial, private, etc)\n",
    "   - With this analysis the stakeholders will be able to see which direction to follow when it comes to their venture. Should they venture into private aircrafts or commercial. "
   ]
  },
  {
   "cell_type": "code",
   "execution_count": 34,
   "metadata": {},
   "outputs": [
    {
     "data": {
      "image/png": "[encoded data removed]",
      "text/plain": [
       "<Figure size 1080x648 with 1 Axes>"
      ]
     },
     "metadata": {},
     "output_type": "display_data"
    },
    {
     "data": {
      "text/plain": [
       "<Figure size 432x288 with 0 Axes>"
      ]
     },
     "metadata": {},
     "output_type": "display_data"
    }
   ],
   "source": [
    "#Create a figure\n",
    "plt.figure(figsize=(15, 9))\n",
    "\n",
    "#Create the countplot\n",
    "sns.countplot(data=df, x='Purpose.of.flight', order=df['Purpose.of.flight'].value_counts().index)\n",
    "\n",
    "#Set the labels and title\n",
    "plt.title('NUMBER OF REPORTED CASES BY PURPOSE OF FLIGHT', fontsize = 18)\n",
    "plt.xlabel('PURPOSE OF FLIGHT', fontsize= 14)\n",
    "plt.ylabel('NUMBER OF REPORTED CASES', fontsize= 14)\n",
    "plt.xticks(rotation=45)\n",
    "plt.show()\n",
    "\n",
    "#Save the plot as image\n",
    "plt.savefig('accidents_by_flightpurpose.png')"
   ]
  },
  {
   "cell_type": "markdown",
   "metadata": {},
   "source": [
    "- This countplot shows a significantly higher number of incidents for a Personal flying purposes. This information may suggest to stakeholders that aircrafts mainly used for personal purposes have a higher risk, if they should choose to deal with these types. \n",
    "- Also, particular purposes of flight like ferry, aerial observation, and public show lower incident rate, so stakeholders might consider these segments more favorable for investment.\n",
    "- Additionally, this analysis can help stakeholders get a rough idea of the regulations in certain categories. For instance, personal flying may be heavily regulated due to the higher accident cases. They should, therefore, prepare for these potential regulations which could affect operations and costs."
   ]
  },
  {
   "cell_type": "markdown",
   "metadata": {},
   "source": [
    "<b>KEY QUESTION 6: How bad are the damages in aircrafts after accidents/incidents?\n",
    "    \n",
    "   - In this question I want to visualize the aircraft damage column and see how the damage was distributed across the reported cases.\n",
    "   - This analysis will provide insight to stakeholders into the severity of aircraft damage in past incidents. "
   ]
  },
  {
   "cell_type": "code",
   "execution_count": 35,
   "metadata": {},
   "outputs": [
    {
     "data": {
      "image/png": "[encoded data removed]",
      "text/plain": [
       "<Figure size 864x576 with 1 Axes>"
      ]
     },
     "metadata": {},
     "output_type": "display_data"
    },
    {
     "data": {
      "text/plain": [
       "<Figure size 432x288 with 0 Axes>"
      ]
     },
     "metadata": {},
     "output_type": "display_data"
    }
   ],
   "source": [
    "#Create a figure\n",
    "plt.figure(figsize=(12, 8))\n",
    "\n",
    "\n",
    "#Create the bar plot\n",
    "sns.countplot(data=df, x='Aircraft.damage')\n",
    "\n",
    "#Add title and labels\n",
    "plt.title('DISTRIBUTION OF AIRCRAFT DAMAGE ACROSS REPORTED CASES', fontsize=18)\n",
    "plt.xlabel('AIRCRAFT DAMAGE LEVEL', fontsize=14)\n",
    "plt.ylabel('NUMBER OF REPORTED CASES', fontsize=14)\n",
    "\n",
    "#Display the plot\n",
    "plt.show()\n",
    "\n",
    "#Save the plot as image\n",
    "plt.savefig('damage_level.png')"
   ]
  },
  {
   "cell_type": "markdown",
   "metadata": {},
   "source": [
    "- This visualization provides insights to stakeholders of how risky the aviation industry is and how costly these incidents may be in terms of repairs and replacement, insurance, and potential loss of life.\n",
    "- Stakeholders also need to think of things like safety protocols needed to be set in place for operating aircrafts"
   ]
  },
  {
   "cell_type": "markdown",
   "metadata": {},
   "source": [
    "## Conclusion"
   ]
  },
  {
   "cell_type": "markdown",
   "metadata": {},
   "source": [
    "This analysis reveals the risk factors within the aviation industry. The most accident-prone aircraft models, the trend of aviation accidents, the role of weather conditions, and the damage level experienced  have all been explored in detail. The findings and recommendations are included under the recommendations section below"
   ]
  },
  {
   "cell_type": "markdown",
   "metadata": {},
   "source": [
    "## Recommendations"
   ]
  },
  {
   "cell_type": "markdown",
   "metadata": {},
   "source": [
    "<b>\n",
    "\n",
    "1. Consider purchasing and operating low-risk aircraft models, as they have consistently lower accident rates. This approach will not only minimize operational risks but will also enhance the company’s reputation for safety.(REFER TO VISUALIZATION IN KEY QUESTION 1)\n",
    "\n",
    "2. Take advantage of the downward trend in aviation accidents. With the steady decline in aviation accidents over the years, you can capitalize this during marketing to attract investors as well as customers.(REFER TO VISUALIZATION IN KEY QUESTION 2)\n",
    "\n",
    "3. Invest in aircrafts suitable for flight purposes with a low risk profile. Cautiously evaluate whether to enter a specific segment before purchasing aircrafts suitable for that sector. For instance, sectors like ferry, aerial observation, and public flying record lower incident rates and may be a safer and more favorable investment opportunity.(REFER TO VISUALIZATION IN KEY QUESTION 5)"
   ]
  },
  {
   "cell_type": "markdown",
   "metadata": {},
   "source": [
    "## Next Steps\n",
    "\n",
    "To conduct a deeper analysis on the root causes behind accidents and incidents in certain aircraft make and models. Explore further to determine which manufacturers produce the most incident-prone models, to aid in informed procurement decisions.\n",
    "\n",
    "To conduct further analysis to understand frequency vs. risk, especially for models like Cessna which appear in both low-risk aircrafts and in aircrafts with the most recorderd cases. Find out and prove if this paradox is indeed simply because these models are flown more frequently compared to other models and not due to inherent safety flaws."
   ]
  }
 ],
 "metadata": {
  "kernelspec": {
   "display_name": "Python (learn-env)",
   "language": "python",
   "name": "learn-env"
  },
  "language_info": {
   "codemirror_mode": {
    "name": "ipython",
    "version": 3
   },
   "file_extension": ".py",
   "mimetype": "text/x-python",
   "name": "python",
   "nbconvert_exporter": "python",
   "pygments_lexer": "ipython3",
   "version": "3.8.5"
  }
 },
 "nbformat": 4,
 "nbformat_minor": 4
}
